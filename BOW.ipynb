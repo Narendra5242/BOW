{
 "cells": [
  {
   "cell_type": "code",
   "execution_count": 47,
   "id": "cd43983e",
   "metadata": {},
   "outputs": [
    {
     "name": "stderr",
     "output_type": "stream",
     "text": [
      "[nltk_data] Downloading package punkt to\n",
      "[nltk_data]     C:\\Users\\naren\\AppData\\Roaming\\nltk_data...\n",
      "[nltk_data]   Package punkt is already up-to-date!\n",
      "[nltk_data] Downloading package stopwords to\n",
      "[nltk_data]     C:\\Users\\naren\\AppData\\Roaming\\nltk_data...\n",
      "[nltk_data]   Package stopwords is already up-to-date!\n",
      "[nltk_data] Downloading package wordnet to\n",
      "[nltk_data]     C:\\Users\\naren\\AppData\\Roaming\\nltk_data...\n",
      "[nltk_data]   Package wordnet is already up-to-date!\n",
      "[nltk_data] Downloading package averaged_perceptron_tagger to\n",
      "[nltk_data]     C:\\Users\\naren\\AppData\\Roaming\\nltk_data...\n",
      "[nltk_data]   Package averaged_perceptron_tagger is already up-to-\n",
      "[nltk_data]       date!\n"
     ]
    },
    {
     "data": {
      "text/plain": [
       "True"
      ]
     },
     "execution_count": 47,
     "metadata": {},
     "output_type": "execute_result"
    }
   ],
   "source": [
    "import nltk\n",
    "nltk.download('punkt')\n",
    "nltk.download('stopwords')\n",
    "nltk.download('wordnet')\n",
    "nltk.download('averaged_perceptron_tagger')"
   ]
  },
  {
   "cell_type": "code",
   "execution_count": 48,
   "id": "c5d3fd00",
   "metadata": {},
   "outputs": [],
   "source": [
    "import pandas as pd\n",
    "import string"
   ]
  },
  {
   "cell_type": "code",
   "execution_count": 100,
   "id": "fc491724",
   "metadata": {},
   "outputs": [
    {
     "data": {
      "text/html": [
       "<div>\n",
       "<style scoped>\n",
       "    .dataframe tbody tr th:only-of-type {\n",
       "        vertical-align: middle;\n",
       "    }\n",
       "\n",
       "    .dataframe tbody tr th {\n",
       "        vertical-align: top;\n",
       "    }\n",
       "\n",
       "    .dataframe thead th {\n",
       "        text-align: right;\n",
       "    }\n",
       "</style>\n",
       "<table border=\"1\" class=\"dataframe\">\n",
       "  <thead>\n",
       "    <tr style=\"text-align: right;\">\n",
       "      <th></th>\n",
       "      <th>text</th>\n",
       "      <th>servers</th>\n",
       "    </tr>\n",
       "  </thead>\n",
       "  <tbody>\n",
       "    <tr>\n",
       "      <th>0</th>\n",
       "      <td>a-c-v-d acvd hdujiashd dhyn2`had (AKLNOIJO</td>\n",
       "      <td>111191819</td>\n",
       "    </tr>\n",
       "    <tr>\n",
       "      <th>1</th>\n",
       "      <td>JHJSABJH ASGHUIAG IAHD I^78us khhad</td>\n",
       "      <td>11918918</td>\n",
       "    </tr>\n",
       "    <tr>\n",
       "      <th>2</th>\n",
       "      <td>yugyua678sa uis-dasgu- jkdhhbn- jjkah-09</td>\n",
       "      <td>8918911</td>\n",
       "    </tr>\n",
       "  </tbody>\n",
       "</table>\n",
       "</div>"
      ],
      "text/plain": [
       "                                         text    servers\n",
       "0  a-c-v-d acvd hdujiashd dhyn2`had (AKLNOIJO  111191819\n",
       "1         JHJSABJH ASGHUIAG IAHD I^78us khhad   11918918\n",
       "2    yugyua678sa uis-dasgu- jkdhhbn- jjkah-09    8918911"
      ]
     },
     "execution_count": 100,
     "metadata": {},
     "output_type": "execute_result"
    }
   ],
   "source": [
    "df = pd.read_excel('C://Users//naren//OneDrive//Documents//nlp.xlsx', header=0)\n",
    "df.head(3)"
   ]
  },
  {
   "cell_type": "code",
   "execution_count": 60,
   "id": "a91e519d",
   "metadata": {},
   "outputs": [],
   "source": [
    "import pandas as pd\n",
    "from nltk.tokenize import word_tokenize\n",
    "from nltk.corpus import stopwords\n",
    "from sklearn.feature_extraction.text import CountVectorizer\n",
    "#setting max width to show all columns in dataframe\n",
    "pd.set_option('max_colwidth', 100)"
   ]
  },
  {
   "cell_type": "code",
   "execution_count": 101,
   "id": "a26267bf",
   "metadata": {},
   "outputs": [
    {
     "data": {
      "text/html": [
       "<div>\n",
       "<style scoped>\n",
       "    .dataframe tbody tr th:only-of-type {\n",
       "        vertical-align: middle;\n",
       "    }\n",
       "\n",
       "    .dataframe tbody tr th {\n",
       "        vertical-align: top;\n",
       "    }\n",
       "\n",
       "    .dataframe thead th {\n",
       "        text-align: right;\n",
       "    }\n",
       "</style>\n",
       "<table border=\"1\" class=\"dataframe\">\n",
       "  <thead>\n",
       "    <tr style=\"text-align: right;\">\n",
       "      <th></th>\n",
       "      <th>text</th>\n",
       "      <th>servers</th>\n",
       "      <th>clean_text</th>\n",
       "    </tr>\n",
       "  </thead>\n",
       "  <tbody>\n",
       "    <tr>\n",
       "      <th>0</th>\n",
       "      <td>a-c-v-d acvd hdujiashd dhyn2`had (AKLNOIJO</td>\n",
       "      <td>111191819</td>\n",
       "      <td>a-c-v-d acvd hdujiashd dhyn2`had (aklnoijo</td>\n",
       "    </tr>\n",
       "    <tr>\n",
       "      <th>1</th>\n",
       "      <td>JHJSABJH ASGHUIAG IAHD I^78us khhad</td>\n",
       "      <td>11918918</td>\n",
       "      <td>jhjsabjh asghuiag iahd i^78us khhad</td>\n",
       "    </tr>\n",
       "    <tr>\n",
       "      <th>2</th>\n",
       "      <td>yugyua678sa uis-dasgu- jkdhhbn- jjkah-09</td>\n",
       "      <td>8918911</td>\n",
       "      <td>yugyua678sa uis-dasgu- jkdhhbn- jjkah-09</td>\n",
       "    </tr>\n",
       "    <tr>\n",
       "      <th>3</th>\n",
       "      <td>jkhjkas7 jkakja 80a ajdjh9 daou8</td>\n",
       "      <td>187187827</td>\n",
       "      <td>jkhjkas7 jkakja 80a ajdjh9 daou8</td>\n",
       "    </tr>\n",
       "    <tr>\n",
       "      <th>4</th>\n",
       "      <td>kjak-hu-i- diuhd diadu jdid</td>\n",
       "      <td>78678</td>\n",
       "      <td>kjak-hu-i- diuhd diadu jdid</td>\n",
       "    </tr>\n",
       "  </tbody>\n",
       "</table>\n",
       "</div>"
      ],
      "text/plain": [
       "                                         text    servers  \\\n",
       "0  a-c-v-d acvd hdujiashd dhyn2`had (AKLNOIJO  111191819   \n",
       "1         JHJSABJH ASGHUIAG IAHD I^78us khhad   11918918   \n",
       "2    yugyua678sa uis-dasgu- jkdhhbn- jjkah-09    8918911   \n",
       "3            jkhjkas7 jkakja 80a ajdjh9 daou8  187187827   \n",
       "4                 kjak-hu-i- diuhd diadu jdid      78678   \n",
       "\n",
       "                                   clean_text  \n",
       "0  a-c-v-d acvd hdujiashd dhyn2`had (aklnoijo  \n",
       "1         jhjsabjh asghuiag iahd i^78us khhad  \n",
       "2    yugyua678sa uis-dasgu- jkdhhbn- jjkah-09  \n",
       "3            jkhjkas7 jkakja 80a ajdjh9 daou8  \n",
       "4                 kjak-hu-i- diuhd diadu jdid  "
      ]
     },
     "execution_count": 101,
     "metadata": {},
     "output_type": "execute_result"
    }
   ],
   "source": [
    "df['clean_text'] = df['text'].str.lower()\n",
    "df.head()"
   ]
  },
  {
   "cell_type": "code",
   "execution_count": 102,
   "id": "fb7232a8",
   "metadata": {},
   "outputs": [],
   "source": [
    "def remove_punctuations(text):\n",
    "    punctuations = string.punctuation\n",
    "    return text.translate(str.maketrans('', '', punctuations))"
   ]
  },
  {
   "cell_type": "code",
   "execution_count": 103,
   "id": "ca12eac1",
   "metadata": {},
   "outputs": [
    {
     "data": {
      "text/html": [
       "<div>\n",
       "<style scoped>\n",
       "    .dataframe tbody tr th:only-of-type {\n",
       "        vertical-align: middle;\n",
       "    }\n",
       "\n",
       "    .dataframe tbody tr th {\n",
       "        vertical-align: top;\n",
       "    }\n",
       "\n",
       "    .dataframe thead th {\n",
       "        text-align: right;\n",
       "    }\n",
       "</style>\n",
       "<table border=\"1\" class=\"dataframe\">\n",
       "  <thead>\n",
       "    <tr style=\"text-align: right;\">\n",
       "      <th></th>\n",
       "      <th>text</th>\n",
       "      <th>servers</th>\n",
       "      <th>clean_text</th>\n",
       "    </tr>\n",
       "  </thead>\n",
       "  <tbody>\n",
       "    <tr>\n",
       "      <th>0</th>\n",
       "      <td>a-c-v-d acvd hdujiashd dhyn2`had (AKLNOIJO</td>\n",
       "      <td>111191819</td>\n",
       "      <td>acvd acvd hdujiashd dhyn2had aklnoijo</td>\n",
       "    </tr>\n",
       "    <tr>\n",
       "      <th>1</th>\n",
       "      <td>JHJSABJH ASGHUIAG IAHD I^78us khhad</td>\n",
       "      <td>11918918</td>\n",
       "      <td>jhjsabjh asghuiag iahd i78us khhad</td>\n",
       "    </tr>\n",
       "    <tr>\n",
       "      <th>2</th>\n",
       "      <td>yugyua678sa uis-dasgu- jkdhhbn- jjkah-09</td>\n",
       "      <td>8918911</td>\n",
       "      <td>yugyua678sa uisdasgu jkdhhbn jjkah09</td>\n",
       "    </tr>\n",
       "    <tr>\n",
       "      <th>3</th>\n",
       "      <td>jkhjkas7 jkakja 80a ajdjh9 daou8</td>\n",
       "      <td>187187827</td>\n",
       "      <td>jkhjkas7 jkakja 80a ajdjh9 daou8</td>\n",
       "    </tr>\n",
       "    <tr>\n",
       "      <th>4</th>\n",
       "      <td>kjak-hu-i- diuhd diadu jdid</td>\n",
       "      <td>78678</td>\n",
       "      <td>kjakhui diuhd diadu jdid</td>\n",
       "    </tr>\n",
       "  </tbody>\n",
       "</table>\n",
       "</div>"
      ],
      "text/plain": [
       "                                         text    servers  \\\n",
       "0  a-c-v-d acvd hdujiashd dhyn2`had (AKLNOIJO  111191819   \n",
       "1         JHJSABJH ASGHUIAG IAHD I^78us khhad   11918918   \n",
       "2    yugyua678sa uis-dasgu- jkdhhbn- jjkah-09    8918911   \n",
       "3            jkhjkas7 jkakja 80a ajdjh9 daou8  187187827   \n",
       "4                 kjak-hu-i- diuhd diadu jdid      78678   \n",
       "\n",
       "                              clean_text  \n",
       "0  acvd acvd hdujiashd dhyn2had aklnoijo  \n",
       "1     jhjsabjh asghuiag iahd i78us khhad  \n",
       "2   yugyua678sa uisdasgu jkdhhbn jjkah09  \n",
       "3       jkhjkas7 jkakja 80a ajdjh9 daou8  \n",
       "4               kjakhui diuhd diadu jdid  "
      ]
     },
     "execution_count": 103,
     "metadata": {},
     "output_type": "execute_result"
    }
   ],
   "source": [
    "# punctuations are nothing but extra characters\n",
    "df['clean_text'] = df['clean_text'].apply(lambda x: remove_punctuations(x))\n",
    "df.head()"
   ]
  },
  {
   "cell_type": "code",
   "execution_count": 64,
   "id": "640afb6c",
   "metadata": {},
   "outputs": [],
   "source": [
    "from nltk.corpus import stopwords"
   ]
  },
  {
   "cell_type": "code",
   "execution_count": 104,
   "id": "e1abd690",
   "metadata": {},
   "outputs": [],
   "source": [
    "STOPWORDS = set(stopwords.words('english'))\n",
    "def remove_stopwords(text):\n",
    "    return \" \".join([word for word in text.split() if word not in STOPWORDS])"
   ]
  },
  {
   "cell_type": "code",
   "execution_count": 105,
   "id": "27f54eba",
   "metadata": {},
   "outputs": [
    {
     "data": {
      "text/html": [
       "<div>\n",
       "<style scoped>\n",
       "    .dataframe tbody tr th:only-of-type {\n",
       "        vertical-align: middle;\n",
       "    }\n",
       "\n",
       "    .dataframe tbody tr th {\n",
       "        vertical-align: top;\n",
       "    }\n",
       "\n",
       "    .dataframe thead th {\n",
       "        text-align: right;\n",
       "    }\n",
       "</style>\n",
       "<table border=\"1\" class=\"dataframe\">\n",
       "  <thead>\n",
       "    <tr style=\"text-align: right;\">\n",
       "      <th></th>\n",
       "      <th>text</th>\n",
       "      <th>servers</th>\n",
       "      <th>clean_text</th>\n",
       "    </tr>\n",
       "  </thead>\n",
       "  <tbody>\n",
       "    <tr>\n",
       "      <th>0</th>\n",
       "      <td>a-c-v-d acvd hdujiashd dhyn2`had (AKLNOIJO</td>\n",
       "      <td>111191819</td>\n",
       "      <td>acvd acvd hdujiashd dhyn2had aklnoijo</td>\n",
       "    </tr>\n",
       "    <tr>\n",
       "      <th>1</th>\n",
       "      <td>JHJSABJH ASGHUIAG IAHD I^78us khhad</td>\n",
       "      <td>11918918</td>\n",
       "      <td>jhjsabjh asghuiag iahd i78us khhad</td>\n",
       "    </tr>\n",
       "    <tr>\n",
       "      <th>2</th>\n",
       "      <td>yugyua678sa uis-dasgu- jkdhhbn- jjkah-09</td>\n",
       "      <td>8918911</td>\n",
       "      <td>yugyua678sa uisdasgu jkdhhbn jjkah09</td>\n",
       "    </tr>\n",
       "    <tr>\n",
       "      <th>3</th>\n",
       "      <td>jkhjkas7 jkakja 80a ajdjh9 daou8</td>\n",
       "      <td>187187827</td>\n",
       "      <td>jkhjkas7 jkakja 80a ajdjh9 daou8</td>\n",
       "    </tr>\n",
       "    <tr>\n",
       "      <th>4</th>\n",
       "      <td>kjak-hu-i- diuhd diadu jdid</td>\n",
       "      <td>78678</td>\n",
       "      <td>kjakhui diuhd diadu jdid</td>\n",
       "    </tr>\n",
       "  </tbody>\n",
       "</table>\n",
       "</div>"
      ],
      "text/plain": [
       "                                         text    servers  \\\n",
       "0  a-c-v-d acvd hdujiashd dhyn2`had (AKLNOIJO  111191819   \n",
       "1         JHJSABJH ASGHUIAG IAHD I^78us khhad   11918918   \n",
       "2    yugyua678sa uis-dasgu- jkdhhbn- jjkah-09    8918911   \n",
       "3            jkhjkas7 jkakja 80a ajdjh9 daou8  187187827   \n",
       "4                 kjak-hu-i- diuhd diadu jdid      78678   \n",
       "\n",
       "                              clean_text  \n",
       "0  acvd acvd hdujiashd dhyn2had aklnoijo  \n",
       "1     jhjsabjh asghuiag iahd i78us khhad  \n",
       "2   yugyua678sa uisdasgu jkdhhbn jjkah09  \n",
       "3       jkhjkas7 jkakja 80a ajdjh9 daou8  \n",
       "4               kjakhui diuhd diadu jdid  "
      ]
     },
     "execution_count": 105,
     "metadata": {},
     "output_type": "execute_result"
    }
   ],
   "source": [
    "df['clean_text'] = df['clean_text'].apply(lambda x: remove_stopwords(x))\n",
    "df.head()"
   ]
  },
  {
   "cell_type": "markdown",
   "id": "1c64a8fe",
   "metadata": {},
   "source": [
    "## Removal of Frequent Words"
   ]
  },
  {
   "cell_type": "code",
   "execution_count": 57,
   "id": "3cd073d5",
   "metadata": {},
   "outputs": [
    {
     "data": {
      "text/plain": [
       "[('acvd', 1),\n",
       " ('hdujiashd', 1),\n",
       " ('dhyn2had', 1),\n",
       " ('aklnoijo', 1),\n",
       " ('jhjsabjh', 1),\n",
       " ('asghuiag', 1),\n",
       " ('iahd', 1),\n",
       " ('i78us', 1),\n",
       " ('khhad', 1),\n",
       " ('yugyua678sa', 1)]"
      ]
     },
     "execution_count": 57,
     "metadata": {},
     "output_type": "execute_result"
    }
   ],
   "source": [
    "from collections import Counter\n",
    "word_count = Counter()\n",
    "for text in df['clean_text']:\n",
    "    for word in text.split():\n",
    "        word_count[word] += 1\n",
    "        \n",
    "word_count.most_common(10)"
   ]
  },
  {
   "cell_type": "code",
   "execution_count": 16,
   "id": "c29cefcd",
   "metadata": {},
   "outputs": [],
   "source": [
    "FREQUENT_WORDS = set(word for (word, wc) in word_count.most_common(3))\n",
    "def remove_freq_words(text):\n",
    "    return \" \".join([word for word in text.split() if word not in FREQUENT_WORDS])"
   ]
  },
  {
   "cell_type": "code",
   "execution_count": 58,
   "id": "9a3affe2",
   "metadata": {},
   "outputs": [
    {
     "data": {
      "text/html": [
       "<div>\n",
       "<style scoped>\n",
       "    .dataframe tbody tr th:only-of-type {\n",
       "        vertical-align: middle;\n",
       "    }\n",
       "\n",
       "    .dataframe tbody tr th {\n",
       "        vertical-align: top;\n",
       "    }\n",
       "\n",
       "    .dataframe thead th {\n",
       "        text-align: right;\n",
       "    }\n",
       "</style>\n",
       "<table border=\"1\" class=\"dataframe\">\n",
       "  <thead>\n",
       "    <tr style=\"text-align: right;\">\n",
       "      <th></th>\n",
       "      <th>text</th>\n",
       "      <th>servers</th>\n",
       "      <th>clean_text</th>\n",
       "    </tr>\n",
       "  </thead>\n",
       "  <tbody>\n",
       "    <tr>\n",
       "      <th>0</th>\n",
       "      <td>a-c-v-d hdujiashd dhyn2`had (AKLNOIJO</td>\n",
       "      <td>111191819</td>\n",
       "      <td>aklnoijo</td>\n",
       "    </tr>\n",
       "    <tr>\n",
       "      <th>1</th>\n",
       "      <td>JHJSABJH ASGHUIAG IAHD I^78us khhad</td>\n",
       "      <td>11918918</td>\n",
       "      <td>jhjsabjh asghuiag iahd i78us khhad</td>\n",
       "    </tr>\n",
       "    <tr>\n",
       "      <th>2</th>\n",
       "      <td>yugyua678sa uis-dasgu- jkdhhbn- jjkah-09</td>\n",
       "      <td>8918911</td>\n",
       "      <td>yugyua678sa uisdasgu jkdhhbn jjkah09</td>\n",
       "    </tr>\n",
       "    <tr>\n",
       "      <th>3</th>\n",
       "      <td>jkhjkas7 jkakja 80a ajdjh9 daou8</td>\n",
       "      <td>187187827</td>\n",
       "      <td>jkhjkas7 jkakja 80a ajdjh9 daou8</td>\n",
       "    </tr>\n",
       "    <tr>\n",
       "      <th>4</th>\n",
       "      <td>kjak-hu-i- diuhd diadu jdid</td>\n",
       "      <td>78678</td>\n",
       "      <td>kjakhui diuhd diadu jdid</td>\n",
       "    </tr>\n",
       "  </tbody>\n",
       "</table>\n",
       "</div>"
      ],
      "text/plain": [
       "                                       text    servers  \\\n",
       "0     a-c-v-d hdujiashd dhyn2`had (AKLNOIJO  111191819   \n",
       "1       JHJSABJH ASGHUIAG IAHD I^78us khhad   11918918   \n",
       "2  yugyua678sa uis-dasgu- jkdhhbn- jjkah-09    8918911   \n",
       "3          jkhjkas7 jkakja 80a ajdjh9 daou8  187187827   \n",
       "4               kjak-hu-i- diuhd diadu jdid      78678   \n",
       "\n",
       "                             clean_text  \n",
       "0                              aklnoijo  \n",
       "1    jhjsabjh asghuiag iahd i78us khhad  \n",
       "2  yugyua678sa uisdasgu jkdhhbn jjkah09  \n",
       "3      jkhjkas7 jkakja 80a ajdjh9 daou8  \n",
       "4              kjakhui diuhd diadu jdid  "
      ]
     },
     "execution_count": 58,
     "metadata": {},
     "output_type": "execute_result"
    }
   ],
   "source": [
    "df['clean_text'] = df['clean_text'].apply(lambda x: remove_freq_words(x))\n",
    "df.head()"
   ]
  },
  {
   "cell_type": "markdown",
   "id": "1ac4164e",
   "metadata": {},
   "source": [
    "### Removal of Rare Words"
   ]
  },
  {
   "cell_type": "code",
   "execution_count": 18,
   "id": "1c9bbd4e",
   "metadata": {},
   "outputs": [
    {
     "data": {
      "text/plain": [
       "{'ad', 'adadya', 'adak', 'adkhk', 'adlad', 'aohd', 'di', 'dk', 'yad'}"
      ]
     },
     "execution_count": 18,
     "metadata": {},
     "output_type": "execute_result"
    }
   ],
   "source": [
    "RARE_WORDS = set(word for (word, wc) in word_count.most_common()[:-10:-1])\n",
    "RARE_WORDS"
   ]
  },
  {
   "cell_type": "code",
   "execution_count": 19,
   "id": "ba364783",
   "metadata": {},
   "outputs": [],
   "source": [
    "def remove_rare_words(text):\n",
    "    return \" \".join([word for word in text.split() if word not in RARE_WORDS])"
   ]
  },
  {
   "cell_type": "code",
   "execution_count": 20,
   "id": "e49909a1",
   "metadata": {},
   "outputs": [
    {
     "data": {
      "text/html": [
       "<div>\n",
       "<style scoped>\n",
       "    .dataframe tbody tr th:only-of-type {\n",
       "        vertical-align: middle;\n",
       "    }\n",
       "\n",
       "    .dataframe tbody tr th {\n",
       "        vertical-align: top;\n",
       "    }\n",
       "\n",
       "    .dataframe thead th {\n",
       "        text-align: right;\n",
       "    }\n",
       "</style>\n",
       "<table border=\"1\" class=\"dataframe\">\n",
       "  <thead>\n",
       "    <tr style=\"text-align: right;\">\n",
       "      <th></th>\n",
       "      <th>text</th>\n",
       "      <th>servers</th>\n",
       "      <th>clean_text</th>\n",
       "    </tr>\n",
       "  </thead>\n",
       "  <tbody>\n",
       "    <tr>\n",
       "      <th>0</th>\n",
       "      <td>a-c-v-d hdujiashd dhyn2`had (AKLNOIJO</td>\n",
       "      <td>111191819</td>\n",
       "      <td>aklnoijo</td>\n",
       "    </tr>\n",
       "    <tr>\n",
       "      <th>1</th>\n",
       "      <td>JHJSABJH ASGHUIAG IAHD I^78us khhad</td>\n",
       "      <td>11918918</td>\n",
       "      <td>jhjsabjh asghuiag iahd i78us khhad</td>\n",
       "    </tr>\n",
       "    <tr>\n",
       "      <th>2</th>\n",
       "      <td>yugyua678sa uis-dasgu- jkdhhbn- jjkah-09</td>\n",
       "      <td>8918911</td>\n",
       "      <td>yugyua678sa uisdasgu jkdhhbn jjkah09</td>\n",
       "    </tr>\n",
       "    <tr>\n",
       "      <th>3</th>\n",
       "      <td>jkhjkas7 jkakja 80a ajdjh9 daou8</td>\n",
       "      <td>187187827</td>\n",
       "      <td>jkhjkas7 jkakja 80a ajdjh9 daou8</td>\n",
       "    </tr>\n",
       "    <tr>\n",
       "      <th>4</th>\n",
       "      <td>kjak-hu-i- diuhd diadu jdid</td>\n",
       "      <td>78678</td>\n",
       "      <td>kjakhui diuhd diadu jdid</td>\n",
       "    </tr>\n",
       "  </tbody>\n",
       "</table>\n",
       "</div>"
      ],
      "text/plain": [
       "                                       text    servers  \\\n",
       "0     a-c-v-d hdujiashd dhyn2`had (AKLNOIJO  111191819   \n",
       "1       JHJSABJH ASGHUIAG IAHD I^78us khhad   11918918   \n",
       "2  yugyua678sa uis-dasgu- jkdhhbn- jjkah-09    8918911   \n",
       "3          jkhjkas7 jkakja 80a ajdjh9 daou8  187187827   \n",
       "4               kjak-hu-i- diuhd diadu jdid      78678   \n",
       "\n",
       "                             clean_text  \n",
       "0                              aklnoijo  \n",
       "1    jhjsabjh asghuiag iahd i78us khhad  \n",
       "2  yugyua678sa uisdasgu jkdhhbn jjkah09  \n",
       "3      jkhjkas7 jkakja 80a ajdjh9 daou8  \n",
       "4              kjakhui diuhd diadu jdid  "
      ]
     },
     "execution_count": 20,
     "metadata": {},
     "output_type": "execute_result"
    }
   ],
   "source": [
    "df['clean_text'] = df['clean_text'].apply(lambda x: remove_rare_words(x))\n",
    "df.head()"
   ]
  },
  {
   "cell_type": "markdown",
   "id": "b80adc3b",
   "metadata": {},
   "source": [
    "### Removal of Special characters"
   ]
  },
  {
   "cell_type": "code",
   "execution_count": 106,
   "id": "9ba31564",
   "metadata": {},
   "outputs": [],
   "source": [
    "import re\n",
    "def remove_spl_chars(text):\n",
    "    text = re.sub('[^a-zA-Z0-9]', ' ', text)\n",
    "    text = re.sub('\\s+', ' ', text)\n",
    "    return text"
   ]
  },
  {
   "cell_type": "code",
   "execution_count": 107,
   "id": "4ae36940",
   "metadata": {},
   "outputs": [
    {
     "data": {
      "text/html": [
       "<div>\n",
       "<style scoped>\n",
       "    .dataframe tbody tr th:only-of-type {\n",
       "        vertical-align: middle;\n",
       "    }\n",
       "\n",
       "    .dataframe tbody tr th {\n",
       "        vertical-align: top;\n",
       "    }\n",
       "\n",
       "    .dataframe thead th {\n",
       "        text-align: right;\n",
       "    }\n",
       "</style>\n",
       "<table border=\"1\" class=\"dataframe\">\n",
       "  <thead>\n",
       "    <tr style=\"text-align: right;\">\n",
       "      <th></th>\n",
       "      <th>text</th>\n",
       "      <th>servers</th>\n",
       "      <th>clean_text</th>\n",
       "    </tr>\n",
       "  </thead>\n",
       "  <tbody>\n",
       "    <tr>\n",
       "      <th>0</th>\n",
       "      <td>a-c-v-d acvd hdujiashd dhyn2`had (AKLNOIJO</td>\n",
       "      <td>111191819</td>\n",
       "      <td>acvd acvd hdujiashd dhyn2had aklnoijo</td>\n",
       "    </tr>\n",
       "    <tr>\n",
       "      <th>1</th>\n",
       "      <td>JHJSABJH ASGHUIAG IAHD I^78us khhad</td>\n",
       "      <td>11918918</td>\n",
       "      <td>jhjsabjh asghuiag iahd i78us khhad</td>\n",
       "    </tr>\n",
       "    <tr>\n",
       "      <th>2</th>\n",
       "      <td>yugyua678sa uis-dasgu- jkdhhbn- jjkah-09</td>\n",
       "      <td>8918911</td>\n",
       "      <td>yugyua678sa uisdasgu jkdhhbn jjkah09</td>\n",
       "    </tr>\n",
       "    <tr>\n",
       "      <th>3</th>\n",
       "      <td>jkhjkas7 jkakja 80a ajdjh9 daou8</td>\n",
       "      <td>187187827</td>\n",
       "      <td>jkhjkas7 jkakja 80a ajdjh9 daou8</td>\n",
       "    </tr>\n",
       "    <tr>\n",
       "      <th>4</th>\n",
       "      <td>kjak-hu-i- diuhd diadu jdid</td>\n",
       "      <td>78678</td>\n",
       "      <td>kjakhui diuhd diadu jdid</td>\n",
       "    </tr>\n",
       "  </tbody>\n",
       "</table>\n",
       "</div>"
      ],
      "text/plain": [
       "                                         text    servers  \\\n",
       "0  a-c-v-d acvd hdujiashd dhyn2`had (AKLNOIJO  111191819   \n",
       "1         JHJSABJH ASGHUIAG IAHD I^78us khhad   11918918   \n",
       "2    yugyua678sa uis-dasgu- jkdhhbn- jjkah-09    8918911   \n",
       "3            jkhjkas7 jkakja 80a ajdjh9 daou8  187187827   \n",
       "4                 kjak-hu-i- diuhd diadu jdid      78678   \n",
       "\n",
       "                              clean_text  \n",
       "0  acvd acvd hdujiashd dhyn2had aklnoijo  \n",
       "1     jhjsabjh asghuiag iahd i78us khhad  \n",
       "2   yugyua678sa uisdasgu jkdhhbn jjkah09  \n",
       "3       jkhjkas7 jkakja 80a ajdjh9 daou8  \n",
       "4               kjakhui diuhd diadu jdid  "
      ]
     },
     "execution_count": 107,
     "metadata": {},
     "output_type": "execute_result"
    }
   ],
   "source": [
    "df['clean_text'] = df['clean_text'].apply(lambda x: remove_spl_chars(x))\n",
    "df.head()"
   ]
  },
  {
   "cell_type": "markdown",
   "id": "84296bf6",
   "metadata": {},
   "source": [
    "### Stemming"
   ]
  },
  {
   "cell_type": "code",
   "execution_count": 108,
   "id": "5b3ba811",
   "metadata": {},
   "outputs": [],
   "source": [
    "from nltk.stem.porter import PorterStemmer\n",
    "ps = PorterStemmer()\n",
    "def stem_words(text):\n",
    "    return \" \".join([ps.stem(word) for word in text.split()])"
   ]
  },
  {
   "cell_type": "code",
   "execution_count": 109,
   "id": "f2c57ec1",
   "metadata": {},
   "outputs": [
    {
     "data": {
      "text/html": [
       "<div>\n",
       "<style scoped>\n",
       "    .dataframe tbody tr th:only-of-type {\n",
       "        vertical-align: middle;\n",
       "    }\n",
       "\n",
       "    .dataframe tbody tr th {\n",
       "        vertical-align: top;\n",
       "    }\n",
       "\n",
       "    .dataframe thead th {\n",
       "        text-align: right;\n",
       "    }\n",
       "</style>\n",
       "<table border=\"1\" class=\"dataframe\">\n",
       "  <thead>\n",
       "    <tr style=\"text-align: right;\">\n",
       "      <th></th>\n",
       "      <th>text</th>\n",
       "      <th>servers</th>\n",
       "      <th>clean_text</th>\n",
       "      <th>stemmed_text</th>\n",
       "    </tr>\n",
       "  </thead>\n",
       "  <tbody>\n",
       "    <tr>\n",
       "      <th>0</th>\n",
       "      <td>a-c-v-d acvd hdujiashd dhyn2`had (AKLNOIJO</td>\n",
       "      <td>111191819</td>\n",
       "      <td>acvd acvd hdujiashd dhyn2had aklnoijo</td>\n",
       "      <td>acvd acvd hdujiashd dhyn2had aklnoijo</td>\n",
       "    </tr>\n",
       "    <tr>\n",
       "      <th>1</th>\n",
       "      <td>JHJSABJH ASGHUIAG IAHD I^78us khhad</td>\n",
       "      <td>11918918</td>\n",
       "      <td>jhjsabjh asghuiag iahd i78us khhad</td>\n",
       "      <td>jhjsabjh asghuiag iahd i78u khhad</td>\n",
       "    </tr>\n",
       "    <tr>\n",
       "      <th>2</th>\n",
       "      <td>yugyua678sa uis-dasgu- jkdhhbn- jjkah-09</td>\n",
       "      <td>8918911</td>\n",
       "      <td>yugyua678sa uisdasgu jkdhhbn jjkah09</td>\n",
       "      <td>yugyua678sa uisdasgu jkdhhbn jjkah09</td>\n",
       "    </tr>\n",
       "    <tr>\n",
       "      <th>3</th>\n",
       "      <td>jkhjkas7 jkakja 80a ajdjh9 daou8</td>\n",
       "      <td>187187827</td>\n",
       "      <td>jkhjkas7 jkakja 80a ajdjh9 daou8</td>\n",
       "      <td>jkhjkas7 jkakja 80a ajdjh9 daou8</td>\n",
       "    </tr>\n",
       "    <tr>\n",
       "      <th>4</th>\n",
       "      <td>kjak-hu-i- diuhd diadu jdid</td>\n",
       "      <td>78678</td>\n",
       "      <td>kjakhui diuhd diadu jdid</td>\n",
       "      <td>kjakhui diuhd diadu jdid</td>\n",
       "    </tr>\n",
       "  </tbody>\n",
       "</table>\n",
       "</div>"
      ],
      "text/plain": [
       "                                         text    servers  \\\n",
       "0  a-c-v-d acvd hdujiashd dhyn2`had (AKLNOIJO  111191819   \n",
       "1         JHJSABJH ASGHUIAG IAHD I^78us khhad   11918918   \n",
       "2    yugyua678sa uis-dasgu- jkdhhbn- jjkah-09    8918911   \n",
       "3            jkhjkas7 jkakja 80a ajdjh9 daou8  187187827   \n",
       "4                 kjak-hu-i- diuhd diadu jdid      78678   \n",
       "\n",
       "                              clean_text  \\\n",
       "0  acvd acvd hdujiashd dhyn2had aklnoijo   \n",
       "1     jhjsabjh asghuiag iahd i78us khhad   \n",
       "2   yugyua678sa uisdasgu jkdhhbn jjkah09   \n",
       "3       jkhjkas7 jkakja 80a ajdjh9 daou8   \n",
       "4               kjakhui diuhd diadu jdid   \n",
       "\n",
       "                            stemmed_text  \n",
       "0  acvd acvd hdujiashd dhyn2had aklnoijo  \n",
       "1      jhjsabjh asghuiag iahd i78u khhad  \n",
       "2   yugyua678sa uisdasgu jkdhhbn jjkah09  \n",
       "3       jkhjkas7 jkakja 80a ajdjh9 daou8  \n",
       "4               kjakhui diuhd diadu jdid  "
      ]
     },
     "execution_count": 109,
     "metadata": {},
     "output_type": "execute_result"
    }
   ],
   "source": [
    "df['stemmed_text'] = df['clean_text'].apply(lambda x: stem_words(x))\n",
    "df.head()"
   ]
  },
  {
   "cell_type": "markdown",
   "id": "ccc19c62",
   "metadata": {},
   "source": [
    "### Lemmatization & POS Tagging"
   ]
  },
  {
   "cell_type": "code",
   "execution_count": 110,
   "id": "9fac25d2",
   "metadata": {},
   "outputs": [],
   "source": [
    "from nltk import pos_tag\n",
    "from nltk.corpus import wordnet\n",
    "from nltk.stem import WordNetLemmatizer\n",
    "\n",
    "lemmatizer = WordNetLemmatizer()\n",
    "wordnet_map = {\"N\":wordnet.NOUN, \"V\": wordnet.VERB, \"J\": wordnet.ADJ, \"R\": wordnet.ADV}\n",
    "\n",
    "def lemmatize_words(text):\n",
    "    # find pos tags\n",
    "    pos_text = pos_tag(text.split())\n",
    "    return \" \".join([lemmatizer.lemmatize(word, wordnet_map.get(pos[0], wordnet.NOUN)) for word, pos in pos_text])\n"
   ]
  },
  {
   "cell_type": "code",
   "execution_count": 111,
   "id": "fc9a9ac8",
   "metadata": {},
   "outputs": [
    {
     "data": {
      "text/html": [
       "<div>\n",
       "<style scoped>\n",
       "    .dataframe tbody tr th:only-of-type {\n",
       "        vertical-align: middle;\n",
       "    }\n",
       "\n",
       "    .dataframe tbody tr th {\n",
       "        vertical-align: top;\n",
       "    }\n",
       "\n",
       "    .dataframe thead th {\n",
       "        text-align: right;\n",
       "    }\n",
       "</style>\n",
       "<table border=\"1\" class=\"dataframe\">\n",
       "  <thead>\n",
       "    <tr style=\"text-align: right;\">\n",
       "      <th></th>\n",
       "      <th>text</th>\n",
       "      <th>servers</th>\n",
       "      <th>clean_text</th>\n",
       "      <th>stemmed_text</th>\n",
       "      <th>lemmatized_text</th>\n",
       "    </tr>\n",
       "  </thead>\n",
       "  <tbody>\n",
       "    <tr>\n",
       "      <th>0</th>\n",
       "      <td>a-c-v-d acvd hdujiashd dhyn2`had (AKLNOIJO</td>\n",
       "      <td>111191819</td>\n",
       "      <td>acvd acvd hdujiashd dhyn2had aklnoijo</td>\n",
       "      <td>acvd acvd hdujiashd dhyn2had aklnoijo</td>\n",
       "      <td>acvd acvd hdujiashd dhyn2had aklnoijo</td>\n",
       "    </tr>\n",
       "    <tr>\n",
       "      <th>1</th>\n",
       "      <td>JHJSABJH ASGHUIAG IAHD I^78us khhad</td>\n",
       "      <td>11918918</td>\n",
       "      <td>jhjsabjh asghuiag iahd i78us khhad</td>\n",
       "      <td>jhjsabjh asghuiag iahd i78u khhad</td>\n",
       "      <td>jhjsabjh asghuiag iahd i78us khhad</td>\n",
       "    </tr>\n",
       "    <tr>\n",
       "      <th>2</th>\n",
       "      <td>yugyua678sa uis-dasgu- jkdhhbn- jjkah-09</td>\n",
       "      <td>8918911</td>\n",
       "      <td>yugyua678sa uisdasgu jkdhhbn jjkah09</td>\n",
       "      <td>yugyua678sa uisdasgu jkdhhbn jjkah09</td>\n",
       "      <td>yugyua678sa uisdasgu jkdhhbn jjkah09</td>\n",
       "    </tr>\n",
       "    <tr>\n",
       "      <th>3</th>\n",
       "      <td>jkhjkas7 jkakja 80a ajdjh9 daou8</td>\n",
       "      <td>187187827</td>\n",
       "      <td>jkhjkas7 jkakja 80a ajdjh9 daou8</td>\n",
       "      <td>jkhjkas7 jkakja 80a ajdjh9 daou8</td>\n",
       "      <td>jkhjkas7 jkakja 80a ajdjh9 daou8</td>\n",
       "    </tr>\n",
       "    <tr>\n",
       "      <th>4</th>\n",
       "      <td>kjak-hu-i- diuhd diadu jdid</td>\n",
       "      <td>78678</td>\n",
       "      <td>kjakhui diuhd diadu jdid</td>\n",
       "      <td>kjakhui diuhd diadu jdid</td>\n",
       "      <td>kjakhui diuhd diadu jdid</td>\n",
       "    </tr>\n",
       "  </tbody>\n",
       "</table>\n",
       "</div>"
      ],
      "text/plain": [
       "                                         text    servers  \\\n",
       "0  a-c-v-d acvd hdujiashd dhyn2`had (AKLNOIJO  111191819   \n",
       "1         JHJSABJH ASGHUIAG IAHD I^78us khhad   11918918   \n",
       "2    yugyua678sa uis-dasgu- jkdhhbn- jjkah-09    8918911   \n",
       "3            jkhjkas7 jkakja 80a ajdjh9 daou8  187187827   \n",
       "4                 kjak-hu-i- diuhd diadu jdid      78678   \n",
       "\n",
       "                              clean_text  \\\n",
       "0  acvd acvd hdujiashd dhyn2had aklnoijo   \n",
       "1     jhjsabjh asghuiag iahd i78us khhad   \n",
       "2   yugyua678sa uisdasgu jkdhhbn jjkah09   \n",
       "3       jkhjkas7 jkakja 80a ajdjh9 daou8   \n",
       "4               kjakhui diuhd diadu jdid   \n",
       "\n",
       "                            stemmed_text  \\\n",
       "0  acvd acvd hdujiashd dhyn2had aklnoijo   \n",
       "1      jhjsabjh asghuiag iahd i78u khhad   \n",
       "2   yugyua678sa uisdasgu jkdhhbn jjkah09   \n",
       "3       jkhjkas7 jkakja 80a ajdjh9 daou8   \n",
       "4               kjakhui diuhd diadu jdid   \n",
       "\n",
       "                         lemmatized_text  \n",
       "0  acvd acvd hdujiashd dhyn2had aklnoijo  \n",
       "1     jhjsabjh asghuiag iahd i78us khhad  \n",
       "2   yugyua678sa uisdasgu jkdhhbn jjkah09  \n",
       "3       jkhjkas7 jkakja 80a ajdjh9 daou8  \n",
       "4               kjakhui diuhd diadu jdid  "
      ]
     },
     "execution_count": 111,
     "metadata": {},
     "output_type": "execute_result"
    }
   ],
   "source": [
    "df['lemmatized_text'] = df['clean_text'].apply(lambda x: lemmatize_words(x))\n",
    "df.head()"
   ]
  },
  {
   "cell_type": "markdown",
   "id": "6ac26d8d",
   "metadata": {},
   "source": [
    "### Removal of URLs"
   ]
  },
  {
   "cell_type": "code",
   "execution_count": 112,
   "id": "57180755",
   "metadata": {},
   "outputs": [],
   "source": [
    "def remove_html_tags(text):\n",
    "    return re.sub(r'<.*?>', '', text)"
   ]
  },
  {
   "cell_type": "code",
   "execution_count": 113,
   "id": "2362b373",
   "metadata": {},
   "outputs": [
    {
     "data": {
      "text/html": [
       "<div>\n",
       "<style scoped>\n",
       "    .dataframe tbody tr th:only-of-type {\n",
       "        vertical-align: middle;\n",
       "    }\n",
       "\n",
       "    .dataframe tbody tr th {\n",
       "        vertical-align: top;\n",
       "    }\n",
       "\n",
       "    .dataframe thead th {\n",
       "        text-align: right;\n",
       "    }\n",
       "</style>\n",
       "<table border=\"1\" class=\"dataframe\">\n",
       "  <thead>\n",
       "    <tr style=\"text-align: right;\">\n",
       "      <th></th>\n",
       "      <th>text</th>\n",
       "      <th>servers</th>\n",
       "      <th>clean_text</th>\n",
       "      <th>stemmed_text</th>\n",
       "      <th>lemmatized_text</th>\n",
       "      <th>remove_html</th>\n",
       "    </tr>\n",
       "  </thead>\n",
       "  <tbody>\n",
       "    <tr>\n",
       "      <th>0</th>\n",
       "      <td>a-c-v-d acvd hdujiashd dhyn2`had (AKLNOIJO</td>\n",
       "      <td>111191819</td>\n",
       "      <td>acvd acvd hdujiashd dhyn2had aklnoijo</td>\n",
       "      <td>acvd acvd hdujiashd dhyn2had aklnoijo</td>\n",
       "      <td>acvd acvd hdujiashd dhyn2had aklnoijo</td>\n",
       "      <td>acvd acvd hdujiashd dhyn2had aklnoijo</td>\n",
       "    </tr>\n",
       "    <tr>\n",
       "      <th>1</th>\n",
       "      <td>JHJSABJH ASGHUIAG IAHD I^78us khhad</td>\n",
       "      <td>11918918</td>\n",
       "      <td>jhjsabjh asghuiag iahd i78us khhad</td>\n",
       "      <td>jhjsabjh asghuiag iahd i78u khhad</td>\n",
       "      <td>jhjsabjh asghuiag iahd i78us khhad</td>\n",
       "      <td>jhjsabjh asghuiag iahd i78us khhad</td>\n",
       "    </tr>\n",
       "    <tr>\n",
       "      <th>2</th>\n",
       "      <td>yugyua678sa uis-dasgu- jkdhhbn- jjkah-09</td>\n",
       "      <td>8918911</td>\n",
       "      <td>yugyua678sa uisdasgu jkdhhbn jjkah09</td>\n",
       "      <td>yugyua678sa uisdasgu jkdhhbn jjkah09</td>\n",
       "      <td>yugyua678sa uisdasgu jkdhhbn jjkah09</td>\n",
       "      <td>yugyua678sa uisdasgu jkdhhbn jjkah09</td>\n",
       "    </tr>\n",
       "    <tr>\n",
       "      <th>3</th>\n",
       "      <td>jkhjkas7 jkakja 80a ajdjh9 daou8</td>\n",
       "      <td>187187827</td>\n",
       "      <td>jkhjkas7 jkakja 80a ajdjh9 daou8</td>\n",
       "      <td>jkhjkas7 jkakja 80a ajdjh9 daou8</td>\n",
       "      <td>jkhjkas7 jkakja 80a ajdjh9 daou8</td>\n",
       "      <td>jkhjkas7 jkakja 80a ajdjh9 daou8</td>\n",
       "    </tr>\n",
       "    <tr>\n",
       "      <th>4</th>\n",
       "      <td>kjak-hu-i- diuhd diadu jdid</td>\n",
       "      <td>78678</td>\n",
       "      <td>kjakhui diuhd diadu jdid</td>\n",
       "      <td>kjakhui diuhd diadu jdid</td>\n",
       "      <td>kjakhui diuhd diadu jdid</td>\n",
       "      <td>kjakhui diuhd diadu jdid</td>\n",
       "    </tr>\n",
       "  </tbody>\n",
       "</table>\n",
       "</div>"
      ],
      "text/plain": [
       "                                         text    servers  \\\n",
       "0  a-c-v-d acvd hdujiashd dhyn2`had (AKLNOIJO  111191819   \n",
       "1         JHJSABJH ASGHUIAG IAHD I^78us khhad   11918918   \n",
       "2    yugyua678sa uis-dasgu- jkdhhbn- jjkah-09    8918911   \n",
       "3            jkhjkas7 jkakja 80a ajdjh9 daou8  187187827   \n",
       "4                 kjak-hu-i- diuhd diadu jdid      78678   \n",
       "\n",
       "                              clean_text  \\\n",
       "0  acvd acvd hdujiashd dhyn2had aklnoijo   \n",
       "1     jhjsabjh asghuiag iahd i78us khhad   \n",
       "2   yugyua678sa uisdasgu jkdhhbn jjkah09   \n",
       "3       jkhjkas7 jkakja 80a ajdjh9 daou8   \n",
       "4               kjakhui diuhd diadu jdid   \n",
       "\n",
       "                            stemmed_text  \\\n",
       "0  acvd acvd hdujiashd dhyn2had aklnoijo   \n",
       "1      jhjsabjh asghuiag iahd i78u khhad   \n",
       "2   yugyua678sa uisdasgu jkdhhbn jjkah09   \n",
       "3       jkhjkas7 jkakja 80a ajdjh9 daou8   \n",
       "4               kjakhui diuhd diadu jdid   \n",
       "\n",
       "                         lemmatized_text  \\\n",
       "0  acvd acvd hdujiashd dhyn2had aklnoijo   \n",
       "1     jhjsabjh asghuiag iahd i78us khhad   \n",
       "2   yugyua678sa uisdasgu jkdhhbn jjkah09   \n",
       "3       jkhjkas7 jkakja 80a ajdjh9 daou8   \n",
       "4               kjakhui diuhd diadu jdid   \n",
       "\n",
       "                             remove_html  \n",
       "0  acvd acvd hdujiashd dhyn2had aklnoijo  \n",
       "1     jhjsabjh asghuiag iahd i78us khhad  \n",
       "2   yugyua678sa uisdasgu jkdhhbn jjkah09  \n",
       "3       jkhjkas7 jkakja 80a ajdjh9 daou8  \n",
       "4               kjakhui diuhd diadu jdid  "
      ]
     },
     "execution_count": 113,
     "metadata": {},
     "output_type": "execute_result"
    }
   ],
   "source": [
    "df['remove_html'] = df['clean_text'].apply(lambda x: remove_html_tags(x))\n",
    "df.head()"
   ]
  },
  {
   "cell_type": "markdown",
   "id": "3fb6f8f7",
   "metadata": {},
   "source": [
    "### Spelling Correction"
   ]
  },
  {
   "cell_type": "code",
   "execution_count": 73,
   "id": "bb7a5c32",
   "metadata": {},
   "outputs": [
    {
     "name": "stdout",
     "output_type": "stream",
     "text": [
      "Requirement already satisfied: pyspellchecker in c:\\users\\naren\\anaconda3\\lib\\site-packages (0.7.2)\n"
     ]
    }
   ],
   "source": [
    "!pip install pyspellchecker"
   ]
  },
  {
   "cell_type": "code",
   "execution_count": 74,
   "id": "7a97304e",
   "metadata": {},
   "outputs": [],
   "source": [
    "from spellchecker import SpellChecker\n",
    "spell = SpellChecker()\n",
    "\n",
    "def correct_spellings(text):\n",
    "    corrected_text = []\n",
    "    misspelled_text = spell.unknown(text.split())\n",
    "    # print(misspelled_text)\n",
    "    for word in text.split():\n",
    "        if word in misspelled_text:\n",
    "            corrected_text.append(spell.correction(word))\n",
    "        else:\n",
    "            corrected_text.append(word)\n",
    "            \n",
    "    return \" \".join(corrected_text)"
   ]
  },
  {
   "cell_type": "code",
   "execution_count": 75,
   "id": "d61b5b5a",
   "metadata": {},
   "outputs": [
    {
     "data": {
      "text/html": [
       "<div>\n",
       "<style scoped>\n",
       "    .dataframe tbody tr th:only-of-type {\n",
       "        vertical-align: middle;\n",
       "    }\n",
       "\n",
       "    .dataframe tbody tr th {\n",
       "        vertical-align: top;\n",
       "    }\n",
       "\n",
       "    .dataframe thead th {\n",
       "        text-align: right;\n",
       "    }\n",
       "</style>\n",
       "<table border=\"1\" class=\"dataframe\">\n",
       "  <thead>\n",
       "    <tr style=\"text-align: right;\">\n",
       "      <th></th>\n",
       "      <th>text</th>\n",
       "      <th>servers</th>\n",
       "      <th>clean_text</th>\n",
       "      <th>stemmed_text</th>\n",
       "      <th>lemmatized_text</th>\n",
       "      <th>remove_html</th>\n",
       "    </tr>\n",
       "  </thead>\n",
       "  <tbody>\n",
       "    <tr>\n",
       "      <th>0</th>\n",
       "      <td>a-c-v-d hdujiashd dhyn2`had (AKLNOIJO</td>\n",
       "      <td>111191819</td>\n",
       "      <td>acvd hdujiashd dhyn2had aklnoijo</td>\n",
       "      <td>acvd hdujiashd dhyn2had aklnoijo</td>\n",
       "      <td>acvd hdujiashd dhyn2had aklnoijo</td>\n",
       "      <td>acvd hdujiashd dhyn2had aklnoijo</td>\n",
       "    </tr>\n",
       "    <tr>\n",
       "      <th>1</th>\n",
       "      <td>JHJSABJH ASGHUIAG IAHD I^78us khhad</td>\n",
       "      <td>11918918</td>\n",
       "      <td>jhjsabjh asghuiag iahd i78us khhad</td>\n",
       "      <td>jhjsabjh asghuiag iahd i78u khhad</td>\n",
       "      <td>jhjsabjh asghuiag iahd i78us khhad</td>\n",
       "      <td>jhjsabjh asghuiag iahd i78us khhad</td>\n",
       "    </tr>\n",
       "    <tr>\n",
       "      <th>2</th>\n",
       "      <td>yugyua678sa uis-dasgu- jkdhhbn- jjkah-09</td>\n",
       "      <td>8918911</td>\n",
       "      <td>yugyua678sa uisdasgu jkdhhbn jjkah09</td>\n",
       "      <td>yugyua678sa uisdasgu jkdhhbn jjkah09</td>\n",
       "      <td>yugyua678sa uisdasgu jkdhhbn jjkah09</td>\n",
       "      <td>yugyua678sa uisdasgu jkdhhbn jjkah09</td>\n",
       "    </tr>\n",
       "    <tr>\n",
       "      <th>3</th>\n",
       "      <td>jkhjkas7 jkakja 80a ajdjh9 daou8</td>\n",
       "      <td>187187827</td>\n",
       "      <td>jkhjkas7 jkakja 80a ajdjh9 daou8</td>\n",
       "      <td>jkhjkas7 jkakja 80a ajdjh9 daou8</td>\n",
       "      <td>jkhjkas7 jkakja 80a ajdjh9 daou8</td>\n",
       "      <td>jkhjkas7 jkakja 80a ajdjh9 daou8</td>\n",
       "    </tr>\n",
       "    <tr>\n",
       "      <th>4</th>\n",
       "      <td>kjak-hu-i- diuhd diadu jdid</td>\n",
       "      <td>78678</td>\n",
       "      <td>kjakhui diuhd diadu jdid</td>\n",
       "      <td>kjakhui diuhd diadu jdid</td>\n",
       "      <td>kjakhui diuhd diadu jdid</td>\n",
       "      <td>kjakhui diuhd diadu jdid</td>\n",
       "    </tr>\n",
       "  </tbody>\n",
       "</table>\n",
       "</div>"
      ],
      "text/plain": [
       "                                       text    servers  \\\n",
       "0     a-c-v-d hdujiashd dhyn2`had (AKLNOIJO  111191819   \n",
       "1       JHJSABJH ASGHUIAG IAHD I^78us khhad   11918918   \n",
       "2  yugyua678sa uis-dasgu- jkdhhbn- jjkah-09    8918911   \n",
       "3          jkhjkas7 jkakja 80a ajdjh9 daou8  187187827   \n",
       "4               kjak-hu-i- diuhd diadu jdid      78678   \n",
       "\n",
       "                             clean_text                          stemmed_text  \\\n",
       "0      acvd hdujiashd dhyn2had aklnoijo      acvd hdujiashd dhyn2had aklnoijo   \n",
       "1    jhjsabjh asghuiag iahd i78us khhad     jhjsabjh asghuiag iahd i78u khhad   \n",
       "2  yugyua678sa uisdasgu jkdhhbn jjkah09  yugyua678sa uisdasgu jkdhhbn jjkah09   \n",
       "3      jkhjkas7 jkakja 80a ajdjh9 daou8      jkhjkas7 jkakja 80a ajdjh9 daou8   \n",
       "4              kjakhui diuhd diadu jdid              kjakhui diuhd diadu jdid   \n",
       "\n",
       "                        lemmatized_text                           remove_html  \n",
       "0      acvd hdujiashd dhyn2had aklnoijo      acvd hdujiashd dhyn2had aklnoijo  \n",
       "1    jhjsabjh asghuiag iahd i78us khhad    jhjsabjh asghuiag iahd i78us khhad  \n",
       "2  yugyua678sa uisdasgu jkdhhbn jjkah09  yugyua678sa uisdasgu jkdhhbn jjkah09  \n",
       "3      jkhjkas7 jkakja 80a ajdjh9 daou8      jkhjkas7 jkakja 80a ajdjh9 daou8  \n",
       "4              kjakhui diuhd diadu jdid              kjakhui diuhd diadu jdid  "
      ]
     },
     "execution_count": 75,
     "metadata": {},
     "output_type": "execute_result"
    }
   ],
   "source": [
    "df['remove_html'] = df['clean_text'].apply(lambda x: remove_html_tags(x))\n",
    "df.head()"
   ]
  },
  {
   "cell_type": "markdown",
   "id": "3a42d945",
   "metadata": {},
   "source": [
    "### Bag of Words"
   ]
  },
  {
   "cell_type": "code",
   "execution_count": 114,
   "id": "4398bc9f",
   "metadata": {},
   "outputs": [],
   "source": [
    "from sklearn.feature_extraction.text import CountVectorizer\n",
    "bow = CountVectorizer(stop_words='english')"
   ]
  },
  {
   "cell_type": "code",
   "execution_count": 80,
   "id": "0b53ec46",
   "metadata": {},
   "outputs": [
    {
     "data": {
      "text/html": [
       "<style>#sk-container-id-3 {color: black;}#sk-container-id-3 pre{padding: 0;}#sk-container-id-3 div.sk-toggleable {background-color: white;}#sk-container-id-3 label.sk-toggleable__label {cursor: pointer;display: block;width: 100%;margin-bottom: 0;padding: 0.3em;box-sizing: border-box;text-align: center;}#sk-container-id-3 label.sk-toggleable__label-arrow:before {content: \"▸\";float: left;margin-right: 0.25em;color: #696969;}#sk-container-id-3 label.sk-toggleable__label-arrow:hover:before {color: black;}#sk-container-id-3 div.sk-estimator:hover label.sk-toggleable__label-arrow:before {color: black;}#sk-container-id-3 div.sk-toggleable__content {max-height: 0;max-width: 0;overflow: hidden;text-align: left;background-color: #f0f8ff;}#sk-container-id-3 div.sk-toggleable__content pre {margin: 0.2em;color: black;border-radius: 0.25em;background-color: #f0f8ff;}#sk-container-id-3 input.sk-toggleable__control:checked~div.sk-toggleable__content {max-height: 200px;max-width: 100%;overflow: auto;}#sk-container-id-3 input.sk-toggleable__control:checked~label.sk-toggleable__label-arrow:before {content: \"▾\";}#sk-container-id-3 div.sk-estimator input.sk-toggleable__control:checked~label.sk-toggleable__label {background-color: #d4ebff;}#sk-container-id-3 div.sk-label input.sk-toggleable__control:checked~label.sk-toggleable__label {background-color: #d4ebff;}#sk-container-id-3 input.sk-hidden--visually {border: 0;clip: rect(1px 1px 1px 1px);clip: rect(1px, 1px, 1px, 1px);height: 1px;margin: -1px;overflow: hidden;padding: 0;position: absolute;width: 1px;}#sk-container-id-3 div.sk-estimator {font-family: monospace;background-color: #f0f8ff;border: 1px dotted black;border-radius: 0.25em;box-sizing: border-box;margin-bottom: 0.5em;}#sk-container-id-3 div.sk-estimator:hover {background-color: #d4ebff;}#sk-container-id-3 div.sk-parallel-item::after {content: \"\";width: 100%;border-bottom: 1px solid gray;flex-grow: 1;}#sk-container-id-3 div.sk-label:hover label.sk-toggleable__label {background-color: #d4ebff;}#sk-container-id-3 div.sk-serial::before {content: \"\";position: absolute;border-left: 1px solid gray;box-sizing: border-box;top: 0;bottom: 0;left: 50%;z-index: 0;}#sk-container-id-3 div.sk-serial {display: flex;flex-direction: column;align-items: center;background-color: white;padding-right: 0.2em;padding-left: 0.2em;position: relative;}#sk-container-id-3 div.sk-item {position: relative;z-index: 1;}#sk-container-id-3 div.sk-parallel {display: flex;align-items: stretch;justify-content: center;background-color: white;position: relative;}#sk-container-id-3 div.sk-item::before, #sk-container-id-3 div.sk-parallel-item::before {content: \"\";position: absolute;border-left: 1px solid gray;box-sizing: border-box;top: 0;bottom: 0;left: 50%;z-index: -1;}#sk-container-id-3 div.sk-parallel-item {display: flex;flex-direction: column;z-index: 1;position: relative;background-color: white;}#sk-container-id-3 div.sk-parallel-item:first-child::after {align-self: flex-end;width: 50%;}#sk-container-id-3 div.sk-parallel-item:last-child::after {align-self: flex-start;width: 50%;}#sk-container-id-3 div.sk-parallel-item:only-child::after {width: 0;}#sk-container-id-3 div.sk-dashed-wrapped {border: 1px dashed gray;margin: 0 0.4em 0.5em 0.4em;box-sizing: border-box;padding-bottom: 0.4em;background-color: white;}#sk-container-id-3 div.sk-label label {font-family: monospace;font-weight: bold;display: inline-block;line-height: 1.2em;}#sk-container-id-3 div.sk-label-container {text-align: center;}#sk-container-id-3 div.sk-container {/* jupyter's `normalize.less` sets `[hidden] { display: none; }` but bootstrap.min.css set `[hidden] { display: none !important; }` so we also need the `!important` here to be able to override the default hidden behavior on the sphinx rendered scikit-learn.org. See: https://github.com/scikit-learn/scikit-learn/issues/21755 */display: inline-block !important;position: relative;}#sk-container-id-3 div.sk-text-repr-fallback {display: none;}</style><div id=\"sk-container-id-3\" class=\"sk-top-container\"><div class=\"sk-text-repr-fallback\"><pre>CountVectorizer(stop_words=&#x27;english&#x27;)</pre><b>In a Jupyter environment, please rerun this cell to show the HTML representation or trust the notebook. <br />On GitHub, the HTML representation is unable to render, please try loading this page with nbviewer.org.</b></div><div class=\"sk-container\" hidden><div class=\"sk-item\"><div class=\"sk-estimator sk-toggleable\"><input class=\"sk-toggleable__control sk-hidden--visually\" id=\"sk-estimator-id-3\" type=\"checkbox\" checked><label for=\"sk-estimator-id-3\" class=\"sk-toggleable__label sk-toggleable__label-arrow\">CountVectorizer</label><div class=\"sk-toggleable__content\"><pre>CountVectorizer(stop_words=&#x27;english&#x27;)</pre></div></div></div></div></div>"
      ],
      "text/plain": [
       "CountVectorizer(stop_words='english')"
      ]
     },
     "execution_count": 80,
     "metadata": {},
     "output_type": "execute_result"
    }
   ],
   "source": [
    "# fit the data\n",
    "bow.fit(df['remove_html'])"
   ]
  },
  {
   "cell_type": "code",
   "execution_count": 115,
   "id": "547fe22c",
   "metadata": {},
   "outputs": [],
   "source": [
    "vectorizer = CountVectorizer(stop_words='english')\n",
    "X = vectorizer.fit_transform(df['remove_html'])\n"
   ]
  },
  {
   "cell_type": "code",
   "execution_count": 116,
   "id": "02980639",
   "metadata": {},
   "outputs": [
    {
     "data": {
      "text/plain": [
       "array(['80a', 'acvd', 'ad', 'adadya', 'adak', 'adkhk', 'adlad', 'aduioa',\n",
       "       'aduo', 'ajdjh9', 'ajkdui', 'aklnoijo', 'aohd', 'asghuiag',\n",
       "       'daou8', 'dhyn2had', 'di', 'diadu', 'diuhd', 'dk', 'hahkakjadl',\n",
       "       'hdujiashd', 'i78us', 'iahd', 'ioadi', 'iua', 'jdid', 'jhjsabjh',\n",
       "       'jio', 'jjkah09', 'jkakja', 'jkdhhbn', 'jkhjkas7', 'kahduiah',\n",
       "       'khhad', 'kjakhui', 'ouyad', 'uisdasgu', 'yad', 'yugyua678sa'],\n",
       "      dtype=object)"
      ]
     },
     "execution_count": 116,
     "metadata": {},
     "output_type": "execute_result"
    }
   ],
   "source": [
    "vectorizer.get_feature_names_out()"
   ]
  },
  {
   "cell_type": "code",
   "execution_count": 117,
   "id": "83de6dc5",
   "metadata": {},
   "outputs": [
    {
     "data": {
      "text/html": [
       "<div>\n",
       "<style scoped>\n",
       "    .dataframe tbody tr th:only-of-type {\n",
       "        vertical-align: middle;\n",
       "    }\n",
       "\n",
       "    .dataframe tbody tr th {\n",
       "        vertical-align: top;\n",
       "    }\n",
       "\n",
       "    .dataframe thead th {\n",
       "        text-align: right;\n",
       "    }\n",
       "</style>\n",
       "<table border=\"1\" class=\"dataframe\">\n",
       "  <thead>\n",
       "    <tr style=\"text-align: right;\">\n",
       "      <th></th>\n",
       "      <th>80a</th>\n",
       "      <th>acvd</th>\n",
       "      <th>ad</th>\n",
       "      <th>adadya</th>\n",
       "      <th>adak</th>\n",
       "      <th>adkhk</th>\n",
       "      <th>adlad</th>\n",
       "      <th>aduioa</th>\n",
       "      <th>aduo</th>\n",
       "      <th>ajdjh9</th>\n",
       "      <th>...</th>\n",
       "      <th>jkakja</th>\n",
       "      <th>jkdhhbn</th>\n",
       "      <th>jkhjkas7</th>\n",
       "      <th>kahduiah</th>\n",
       "      <th>khhad</th>\n",
       "      <th>kjakhui</th>\n",
       "      <th>ouyad</th>\n",
       "      <th>uisdasgu</th>\n",
       "      <th>yad</th>\n",
       "      <th>yugyua678sa</th>\n",
       "    </tr>\n",
       "  </thead>\n",
       "  <tbody>\n",
       "    <tr>\n",
       "      <th>0</th>\n",
       "      <td>0</td>\n",
       "      <td>2</td>\n",
       "      <td>0</td>\n",
       "      <td>0</td>\n",
       "      <td>0</td>\n",
       "      <td>0</td>\n",
       "      <td>0</td>\n",
       "      <td>0</td>\n",
       "      <td>0</td>\n",
       "      <td>0</td>\n",
       "      <td>...</td>\n",
       "      <td>0</td>\n",
       "      <td>0</td>\n",
       "      <td>0</td>\n",
       "      <td>0</td>\n",
       "      <td>0</td>\n",
       "      <td>0</td>\n",
       "      <td>0</td>\n",
       "      <td>0</td>\n",
       "      <td>0</td>\n",
       "      <td>0</td>\n",
       "    </tr>\n",
       "    <tr>\n",
       "      <th>1</th>\n",
       "      <td>0</td>\n",
       "      <td>0</td>\n",
       "      <td>0</td>\n",
       "      <td>0</td>\n",
       "      <td>0</td>\n",
       "      <td>0</td>\n",
       "      <td>0</td>\n",
       "      <td>0</td>\n",
       "      <td>0</td>\n",
       "      <td>0</td>\n",
       "      <td>...</td>\n",
       "      <td>0</td>\n",
       "      <td>0</td>\n",
       "      <td>0</td>\n",
       "      <td>0</td>\n",
       "      <td>1</td>\n",
       "      <td>0</td>\n",
       "      <td>0</td>\n",
       "      <td>0</td>\n",
       "      <td>0</td>\n",
       "      <td>0</td>\n",
       "    </tr>\n",
       "    <tr>\n",
       "      <th>2</th>\n",
       "      <td>0</td>\n",
       "      <td>0</td>\n",
       "      <td>0</td>\n",
       "      <td>0</td>\n",
       "      <td>0</td>\n",
       "      <td>0</td>\n",
       "      <td>0</td>\n",
       "      <td>0</td>\n",
       "      <td>0</td>\n",
       "      <td>0</td>\n",
       "      <td>...</td>\n",
       "      <td>0</td>\n",
       "      <td>1</td>\n",
       "      <td>0</td>\n",
       "      <td>0</td>\n",
       "      <td>0</td>\n",
       "      <td>0</td>\n",
       "      <td>0</td>\n",
       "      <td>1</td>\n",
       "      <td>0</td>\n",
       "      <td>1</td>\n",
       "    </tr>\n",
       "    <tr>\n",
       "      <th>3</th>\n",
       "      <td>1</td>\n",
       "      <td>0</td>\n",
       "      <td>0</td>\n",
       "      <td>0</td>\n",
       "      <td>0</td>\n",
       "      <td>0</td>\n",
       "      <td>0</td>\n",
       "      <td>0</td>\n",
       "      <td>0</td>\n",
       "      <td>1</td>\n",
       "      <td>...</td>\n",
       "      <td>1</td>\n",
       "      <td>0</td>\n",
       "      <td>1</td>\n",
       "      <td>0</td>\n",
       "      <td>0</td>\n",
       "      <td>0</td>\n",
       "      <td>0</td>\n",
       "      <td>0</td>\n",
       "      <td>0</td>\n",
       "      <td>0</td>\n",
       "    </tr>\n",
       "    <tr>\n",
       "      <th>4</th>\n",
       "      <td>0</td>\n",
       "      <td>0</td>\n",
       "      <td>0</td>\n",
       "      <td>0</td>\n",
       "      <td>0</td>\n",
       "      <td>0</td>\n",
       "      <td>0</td>\n",
       "      <td>0</td>\n",
       "      <td>0</td>\n",
       "      <td>0</td>\n",
       "      <td>...</td>\n",
       "      <td>0</td>\n",
       "      <td>0</td>\n",
       "      <td>0</td>\n",
       "      <td>0</td>\n",
       "      <td>0</td>\n",
       "      <td>1</td>\n",
       "      <td>0</td>\n",
       "      <td>0</td>\n",
       "      <td>0</td>\n",
       "      <td>0</td>\n",
       "    </tr>\n",
       "  </tbody>\n",
       "</table>\n",
       "<p>5 rows × 40 columns</p>\n",
       "</div>"
      ],
      "text/plain": [
       "   80a  acvd  ad  adadya  adak  adkhk  adlad  aduioa  aduo  ajdjh9  ...  \\\n",
       "0    0     2   0       0     0      0      0       0     0       0  ...   \n",
       "1    0     0   0       0     0      0      0       0     0       0  ...   \n",
       "2    0     0   0       0     0      0      0       0     0       0  ...   \n",
       "3    1     0   0       0     0      0      0       0     0       1  ...   \n",
       "4    0     0   0       0     0      0      0       0     0       0  ...   \n",
       "\n",
       "   jkakja  jkdhhbn  jkhjkas7  kahduiah  khhad  kjakhui  ouyad  uisdasgu  yad  \\\n",
       "0       0        0         0         0      0        0      0         0    0   \n",
       "1       0        0         0         0      1        0      0         0    0   \n",
       "2       0        1         0         0      0        0      0         1    0   \n",
       "3       1        0         1         0      0        0      0         0    0   \n",
       "4       0        0         0         0      0        1      0         0    0   \n",
       "\n",
       "   yugyua678sa  \n",
       "0            0  \n",
       "1            0  \n",
       "2            1  \n",
       "3            0  \n",
       "4            0  \n",
       "\n",
       "[5 rows x 40 columns]"
      ]
     },
     "execution_count": 117,
     "metadata": {},
     "output_type": "execute_result"
    }
   ],
   "source": [
    "bag_of_words = pd.DataFrame(X.toarray(),columns = vectorizer.get_feature_names_out())\n",
    "bag_of_words.head()"
   ]
  },
  {
   "cell_type": "code",
   "execution_count": 118,
   "id": "51db603e",
   "metadata": {},
   "outputs": [
    {
     "data": {
      "text/html": [
       "<div>\n",
       "<style scoped>\n",
       "    .dataframe tbody tr th:only-of-type {\n",
       "        vertical-align: middle;\n",
       "    }\n",
       "\n",
       "    .dataframe tbody tr th {\n",
       "        vertical-align: top;\n",
       "    }\n",
       "\n",
       "    .dataframe thead th {\n",
       "        text-align: right;\n",
       "    }\n",
       "</style>\n",
       "<table border=\"1\" class=\"dataframe\">\n",
       "  <thead>\n",
       "    <tr style=\"text-align: right;\">\n",
       "      <th></th>\n",
       "      <th>80a</th>\n",
       "      <th>acvd</th>\n",
       "      <th>ad</th>\n",
       "      <th>adadya</th>\n",
       "      <th>adak</th>\n",
       "      <th>adkhk</th>\n",
       "      <th>adlad</th>\n",
       "      <th>aduioa</th>\n",
       "      <th>aduo</th>\n",
       "      <th>ajdjh9</th>\n",
       "      <th>...</th>\n",
       "      <th>jkdhhbn</th>\n",
       "      <th>jkhjkas7</th>\n",
       "      <th>kahduiah</th>\n",
       "      <th>khhad</th>\n",
       "      <th>kjakhui</th>\n",
       "      <th>ouyad</th>\n",
       "      <th>uisdasgu</th>\n",
       "      <th>yad</th>\n",
       "      <th>yugyua678sa</th>\n",
       "      <th>servers</th>\n",
       "    </tr>\n",
       "  </thead>\n",
       "  <tbody>\n",
       "    <tr>\n",
       "      <th>0</th>\n",
       "      <td>0</td>\n",
       "      <td>2</td>\n",
       "      <td>0</td>\n",
       "      <td>0</td>\n",
       "      <td>0</td>\n",
       "      <td>0</td>\n",
       "      <td>0</td>\n",
       "      <td>0</td>\n",
       "      <td>0</td>\n",
       "      <td>0</td>\n",
       "      <td>...</td>\n",
       "      <td>0</td>\n",
       "      <td>0</td>\n",
       "      <td>0</td>\n",
       "      <td>0</td>\n",
       "      <td>0</td>\n",
       "      <td>0</td>\n",
       "      <td>0</td>\n",
       "      <td>0</td>\n",
       "      <td>0</td>\n",
       "      <td>111191819</td>\n",
       "    </tr>\n",
       "    <tr>\n",
       "      <th>1</th>\n",
       "      <td>0</td>\n",
       "      <td>0</td>\n",
       "      <td>0</td>\n",
       "      <td>0</td>\n",
       "      <td>0</td>\n",
       "      <td>0</td>\n",
       "      <td>0</td>\n",
       "      <td>0</td>\n",
       "      <td>0</td>\n",
       "      <td>0</td>\n",
       "      <td>...</td>\n",
       "      <td>0</td>\n",
       "      <td>0</td>\n",
       "      <td>0</td>\n",
       "      <td>1</td>\n",
       "      <td>0</td>\n",
       "      <td>0</td>\n",
       "      <td>0</td>\n",
       "      <td>0</td>\n",
       "      <td>0</td>\n",
       "      <td>11918918</td>\n",
       "    </tr>\n",
       "    <tr>\n",
       "      <th>2</th>\n",
       "      <td>0</td>\n",
       "      <td>0</td>\n",
       "      <td>0</td>\n",
       "      <td>0</td>\n",
       "      <td>0</td>\n",
       "      <td>0</td>\n",
       "      <td>0</td>\n",
       "      <td>0</td>\n",
       "      <td>0</td>\n",
       "      <td>0</td>\n",
       "      <td>...</td>\n",
       "      <td>1</td>\n",
       "      <td>0</td>\n",
       "      <td>0</td>\n",
       "      <td>0</td>\n",
       "      <td>0</td>\n",
       "      <td>0</td>\n",
       "      <td>1</td>\n",
       "      <td>0</td>\n",
       "      <td>1</td>\n",
       "      <td>8918911</td>\n",
       "    </tr>\n",
       "    <tr>\n",
       "      <th>3</th>\n",
       "      <td>1</td>\n",
       "      <td>0</td>\n",
       "      <td>0</td>\n",
       "      <td>0</td>\n",
       "      <td>0</td>\n",
       "      <td>0</td>\n",
       "      <td>0</td>\n",
       "      <td>0</td>\n",
       "      <td>0</td>\n",
       "      <td>1</td>\n",
       "      <td>...</td>\n",
       "      <td>0</td>\n",
       "      <td>1</td>\n",
       "      <td>0</td>\n",
       "      <td>0</td>\n",
       "      <td>0</td>\n",
       "      <td>0</td>\n",
       "      <td>0</td>\n",
       "      <td>0</td>\n",
       "      <td>0</td>\n",
       "      <td>187187827</td>\n",
       "    </tr>\n",
       "    <tr>\n",
       "      <th>4</th>\n",
       "      <td>0</td>\n",
       "      <td>0</td>\n",
       "      <td>0</td>\n",
       "      <td>0</td>\n",
       "      <td>0</td>\n",
       "      <td>0</td>\n",
       "      <td>0</td>\n",
       "      <td>0</td>\n",
       "      <td>0</td>\n",
       "      <td>0</td>\n",
       "      <td>...</td>\n",
       "      <td>0</td>\n",
       "      <td>0</td>\n",
       "      <td>0</td>\n",
       "      <td>0</td>\n",
       "      <td>1</td>\n",
       "      <td>0</td>\n",
       "      <td>0</td>\n",
       "      <td>0</td>\n",
       "      <td>0</td>\n",
       "      <td>78678</td>\n",
       "    </tr>\n",
       "  </tbody>\n",
       "</table>\n",
       "<p>5 rows × 41 columns</p>\n",
       "</div>"
      ],
      "text/plain": [
       "   80a  acvd  ad  adadya  adak  adkhk  adlad  aduioa  aduo  ajdjh9  ...  \\\n",
       "0    0     2   0       0     0      0      0       0     0       0  ...   \n",
       "1    0     0   0       0     0      0      0       0     0       0  ...   \n",
       "2    0     0   0       0     0      0      0       0     0       0  ...   \n",
       "3    1     0   0       0     0      0      0       0     0       1  ...   \n",
       "4    0     0   0       0     0      0      0       0     0       0  ...   \n",
       "\n",
       "   jkdhhbn  jkhjkas7  kahduiah  khhad  kjakhui  ouyad  uisdasgu  yad  \\\n",
       "0        0         0         0      0        0      0         0    0   \n",
       "1        0         0         0      1        0      0         0    0   \n",
       "2        1         0         0      0        0      0         1    0   \n",
       "3        0         1         0      0        0      0         0    0   \n",
       "4        0         0         0      0        1      0         0    0   \n",
       "\n",
       "   yugyua678sa    servers  \n",
       "0            0  111191819  \n",
       "1            0   11918918  \n",
       "2            1    8918911  \n",
       "3            0  187187827  \n",
       "4            0      78678  \n",
       "\n",
       "[5 rows x 41 columns]"
      ]
     },
     "execution_count": 118,
     "metadata": {},
     "output_type": "execute_result"
    }
   ],
   "source": [
    "bag_of_words['servers'] = df['servers']\n",
    "bag_of_words.head()"
   ]
  },
  {
   "cell_type": "code",
   "execution_count": 99,
   "id": "0ba7678d",
   "metadata": {},
   "outputs": [],
   "source": [
    "bag_of_words.to_excel('C://Users//naren//OneDrive//Documents//bag_of_words.xlsx')"
   ]
  },
  {
   "cell_type": "code",
   "execution_count": null,
   "id": "07b05e78",
   "metadata": {},
   "outputs": [],
   "source": []
  },
  {
   "cell_type": "code",
   "execution_count": null,
   "id": "96334b98",
   "metadata": {},
   "outputs": [],
   "source": []
  },
  {
   "cell_type": "code",
   "execution_count": null,
   "id": "a0153fbf",
   "metadata": {},
   "outputs": [],
   "source": []
  },
  {
   "cell_type": "code",
   "execution_count": 40,
   "id": "7a95d718",
   "metadata": {},
   "outputs": [
    {
     "data": {
      "text/plain": [
       "<9x28 sparse matrix of type '<class 'numpy.int64'>'\n",
       "\twith 28 stored elements in Compressed Sparse Row format>"
      ]
     },
     "execution_count": 40,
     "metadata": {},
     "output_type": "execute_result"
    }
   ],
   "source": [
    "bow_features = bow.transform(df['remove_html'])\n",
    "bow_features"
   ]
  },
  {
   "cell_type": "code",
   "execution_count": 41,
   "id": "0d486a99",
   "metadata": {},
   "outputs": [],
   "source": [
    "from sklearn.feature_extraction.text import CountVectorizer\n",
    "matrix = CountVectorizer(max_features=1000)\n",
    "X = matrix.fit_transform(df['remove_html']).toarray()"
   ]
  },
  {
   "cell_type": "code",
   "execution_count": 42,
   "id": "6c755a55",
   "metadata": {},
   "outputs": [
    {
     "data": {
      "text/plain": [
       "array([[0, 0, 0, 0, 0, 1, 0, 0, 0, 0, 0, 0, 0, 0, 0, 0, 0, 0, 0, 0, 0, 0,\n",
       "        0, 0, 0, 0, 0, 0],\n",
       "       [0, 0, 0, 0, 0, 0, 1, 0, 0, 0, 0, 1, 1, 0, 0, 0, 1, 0, 0, 0, 0, 0,\n",
       "        0, 1, 0, 0, 0, 0],\n",
       "       [0, 0, 0, 0, 0, 0, 0, 0, 0, 0, 0, 0, 0, 0, 0, 0, 0, 0, 1, 0, 1, 0,\n",
       "        0, 0, 0, 0, 1, 1],\n",
       "       [1, 0, 0, 1, 0, 0, 0, 1, 0, 0, 0, 0, 0, 0, 0, 0, 0, 0, 0, 1, 0, 1,\n",
       "        0, 0, 0, 0, 0, 0],\n",
       "       [0, 0, 0, 0, 0, 0, 0, 0, 1, 1, 0, 0, 0, 0, 0, 1, 0, 0, 0, 0, 0, 0,\n",
       "        0, 0, 1, 0, 0, 0],\n",
       "       [0, 1, 0, 0, 0, 0, 0, 0, 0, 0, 1, 0, 0, 0, 0, 0, 0, 0, 0, 0, 0, 0,\n",
       "        1, 0, 0, 0, 0, 0],\n",
       "       [0, 0, 1, 0, 1, 0, 0, 0, 0, 0, 0, 0, 0, 1, 0, 0, 0, 0, 0, 0, 0, 0,\n",
       "        0, 0, 0, 1, 0, 0],\n",
       "       [0, 0, 0, 0, 0, 0, 0, 0, 0, 0, 0, 0, 0, 0, 1, 0, 0, 1, 0, 0, 0, 0,\n",
       "        0, 0, 0, 0, 0, 0],\n",
       "       [0, 0, 0, 0, 0, 0, 0, 0, 0, 0, 0, 0, 0, 0, 0, 0, 0, 0, 0, 0, 0, 0,\n",
       "        0, 0, 0, 0, 0, 0]], dtype=int64)"
      ]
     },
     "execution_count": 42,
     "metadata": {},
     "output_type": "execute_result"
    }
   ],
   "source": [
    "X"
   ]
  },
  {
   "cell_type": "code",
   "execution_count": 45,
   "id": "c123bfa7",
   "metadata": {},
   "outputs": [
    {
     "ename": "AttributeError",
     "evalue": "'CountVectorizer' object has no attribute 'get_feature_names'",
     "output_type": "error",
     "traceback": [
      "\u001b[1;31m---------------------------------------------------------------------------\u001b[0m",
      "\u001b[1;31mAttributeError\u001b[0m                            Traceback (most recent call last)",
      "Cell \u001b[1;32mIn[45], line 7\u001b[0m\n\u001b[0;32m      4\u001b[0m \u001b[38;5;66;03m#Creating the bag of words\u001b[39;00m\n\u001b[0;32m      5\u001b[0m bow_article \u001b[38;5;241m=\u001b[39m CountVectorizer()\u001b[38;5;241m.\u001b[39mfit(df[\u001b[38;5;124m'\u001b[39m\u001b[38;5;124mremove_html\u001b[39m\u001b[38;5;124m'\u001b[39m])\n\u001b[1;32m----> 7\u001b[0m count_tokens\u001b[38;5;241m=\u001b[39mbow_article\u001b[38;5;241m.\u001b[39mget_feature_names()\n\u001b[0;32m      9\u001b[0m article_vect \u001b[38;5;241m=\u001b[39m bow_article\u001b[38;5;241m.\u001b[39mtransform(df[\u001b[38;5;124m'\u001b[39m\u001b[38;5;124mremove_html\u001b[39m\u001b[38;5;124m'\u001b[39m])\n\u001b[0;32m     10\u001b[0m count_tokens\n",
      "\u001b[1;31mAttributeError\u001b[0m: 'CountVectorizer' object has no attribute 'get_feature_names'"
     ]
    }
   ],
   "source": [
    "from sklearn.feature_extraction.text import CountVectorizer\n",
    "\n",
    "\n",
    "#Creating the bag of words\n",
    "bow_article = CountVectorizer().fit(df['remove_html'])\n",
    "\n",
    "count_tokens=bow_article.get_feature_names()\n",
    "\n",
    "article_vect = bow_article.transform(df['remove_html'])\n",
    "count_tokens"
   ]
  },
  {
   "cell_type": "code",
   "execution_count": 46,
   "id": "c0ae6191",
   "metadata": {},
   "outputs": [
    {
     "name": "stdout",
     "output_type": "stream",
     "text": [
      "Collecting package metadata (current_repodata.json): ...working... done\n",
      "Solving environment: ...working... done\n",
      "\n",
      "# All requested packages already installed.\n",
      "\n",
      "\n",
      "Note: you may need to restart the kernel to use updated packages.\n"
     ]
    }
   ],
   "source": [
    "conda update scikit-learn"
   ]
  },
  {
   "cell_type": "code",
   "execution_count": null,
   "id": "932b6bc8",
   "metadata": {},
   "outputs": [],
   "source": []
  },
  {
   "cell_type": "code",
   "execution_count": null,
   "id": "532438f2",
   "metadata": {},
   "outputs": [],
   "source": []
  },
  {
   "cell_type": "code",
   "execution_count": null,
   "id": "0b0feb93",
   "metadata": {},
   "outputs": [],
   "source": []
  },
  {
   "cell_type": "code",
   "execution_count": null,
   "id": "2ebe69ab",
   "metadata": {},
   "outputs": [],
   "source": []
  },
  {
   "cell_type": "code",
   "execution_count": null,
   "id": "ffb7fe7f",
   "metadata": {},
   "outputs": [],
   "source": []
  },
  {
   "cell_type": "code",
   "execution_count": null,
   "id": "a59e1a8a",
   "metadata": {},
   "outputs": [],
   "source": []
  },
  {
   "cell_type": "code",
   "execution_count": null,
   "id": "9e8a7b95",
   "metadata": {},
   "outputs": [],
   "source": []
  },
  {
   "cell_type": "code",
   "execution_count": 8,
   "id": "ac5297c7",
   "metadata": {},
   "outputs": [],
   "source": [
    "def preprocess(document):\n",
    "   #changes document to lower case and removes stopwords'\n",
    "    # change sentence to lower case\n",
    "    document = document.lower()\n",
    "    # tokenize into words\n",
    "    words = word_tokenize(document)\n",
    "    # remove stop words\n",
    "    words = [word for word in words if word not in stopwords.words(\"english\")]\n",
    "    # join back words to make sentence\n",
    "    document = \" \".join(words)\n",
    "    \n",
    "    return document\n"
   ]
  },
  {
   "cell_type": "code",
   "execution_count": null,
   "id": "7dd872fb",
   "metadata": {},
   "outputs": [
    {
     "name": "stdout",
     "output_type": "stream",
     "text": [
      "showing info https://raw.githubusercontent.com/nltk/nltk_data/gh-pages/index.xml\n"
     ]
    }
   ],
   "source": [
    "import nltk\n",
    "nltk.download('punkt')\n",
    "nltk.download('stopwords')"
   ]
  },
  {
   "cell_type": "code",
   "execution_count": 2,
   "id": "211304a3",
   "metadata": {},
   "outputs": [],
   "source": [
    "import pandas as pd"
   ]
  },
  {
   "cell_type": "code",
   "execution_count": 23,
   "id": "ebb6447a",
   "metadata": {},
   "outputs": [],
   "source": [
    "texts = df.text\n",
    "# convert messages into list\n",
    "messages = [text for text in texts]\n",
    "# preprocess messages using the preprocess function\n",
    "messages = [preprocess(message) for message in messages]\n",
    "# creating bag of words model\n"
   ]
  },
  {
   "cell_type": "code",
   "execution_count": 16,
   "id": "38ddd17d",
   "metadata": {},
   "outputs": [
    {
     "ename": "AttributeError",
     "evalue": "'CountVectorizer' object has no attribute 'get_feature_names'",
     "output_type": "error",
     "traceback": [
      "\u001b[1;31m---------------------------------------------------------------------------\u001b[0m",
      "\u001b[1;31mAttributeError\u001b[0m                            Traceback (most recent call last)",
      "Cell \u001b[1;32mIn[16], line 2\u001b[0m\n\u001b[0;32m      1\u001b[0m \u001b[38;5;66;03m# creating dataframe from bag of words matrix representation\u001b[39;00m\n\u001b[1;32m----> 2\u001b[0m df_bow \u001b[38;5;241m=\u001b[39m pd\u001b[38;5;241m.\u001b[39mDataFrame(bow_model\u001b[38;5;241m.\u001b[39mtoarray(), columns \u001b[38;5;241m=\u001b[39m vectorizer\u001b[38;5;241m.\u001b[39mget_feature_names())\n\u001b[0;32m      3\u001b[0m df_bow\n",
      "\u001b[1;31mAttributeError\u001b[0m: 'CountVectorizer' object has no attribute 'get_feature_names'"
     ]
    }
   ],
   "source": [
    "# creating dataframe from bag of words matrix representation\n",
    "df_bow = pd.DataFrame(bow_model.toarray(), columns = vectorizer.get_feature_names())\n",
    "df_bow"
   ]
  },
  {
   "cell_type": "code",
   "execution_count": 22,
   "id": "ff1abd83",
   "metadata": {},
   "outputs": [
    {
     "name": "stdout",
     "output_type": "stream",
     "text": [
      "Requirement already satisfied: scikit-learn in c:\\users\\naren\\anaconda3\\lib\\site-packages (1.3.0)\n",
      "Collecting scikit-learn\n",
      "  Obtaining dependency information for scikit-learn from https://files.pythonhosted.org/packages/4e/ba/ce9bd1cd4953336a0e213b29cb80bb11816f2a93de8c99f88ef0b446ad0c/scikit_learn-1.3.2-cp311-cp311-win_amd64.whl.metadata\n",
      "  Downloading scikit_learn-1.3.2-cp311-cp311-win_amd64.whl.metadata (11 kB)\n",
      "Requirement already satisfied: numpy<2.0,>=1.17.3 in c:\\users\\naren\\anaconda3\\lib\\site-packages (from scikit-learn) (1.24.3)\n",
      "Requirement already satisfied: scipy>=1.5.0 in c:\\users\\naren\\anaconda3\\lib\\site-packages (from scikit-learn) (1.11.1)\n",
      "Requirement already satisfied: joblib>=1.1.1 in c:\\users\\naren\\anaconda3\\lib\\site-packages (from scikit-learn) (1.1.1)\n",
      "Requirement already satisfied: threadpoolctl>=2.0.0 in c:\\users\\naren\\anaconda3\\lib\\site-packages (from scikit-learn) (2.2.0)\n",
      "Downloading scikit_learn-1.3.2-cp311-cp311-win_amd64.whl (9.2 MB)\n",
      "   ---------------------------------------- 0.0/9.2 MB ? eta -:--:--\n",
      "   ---------------------------------------- 0.0/9.2 MB 2.0 MB/s eta 0:00:05\n",
      "    --------------------------------------- 0.2/9.2 MB 3.1 MB/s eta 0:00:03\n",
      "   -- ------------------------------------- 0.6/9.2 MB 5.7 MB/s eta 0:00:02\n",
      "   ------- -------------------------------- 1.6/9.2 MB 10.3 MB/s eta 0:00:01\n",
      "   ----------- ---------------------------- 2.7/9.2 MB 14.2 MB/s eta 0:00:01\n",
      "   ------------ --------------------------- 2.8/9.2 MB 11.9 MB/s eta 0:00:01\n",
      "   ---------------- ----------------------- 3.9/9.2 MB 13.0 MB/s eta 0:00:01\n",
      "   --------------------- ------------------ 5.0/9.2 MB 14.5 MB/s eta 0:00:01\n",
      "   -------------------------- ------------- 6.2/9.2 MB 15.8 MB/s eta 0:00:01\n",
      "   -------------------------------- ------- 7.4/9.2 MB 16.9 MB/s eta 0:00:01\n",
      "   ---------------------------------- ----- 8.0/9.2 MB 17.6 MB/s eta 0:00:01\n",
      "   ------------------------------------- -- 8.7/9.2 MB 16.9 MB/s eta 0:00:01\n",
      "   ---------------------------------------  9.2/9.2 MB 17.3 MB/s eta 0:00:01\n",
      "   ---------------------------------------- 9.2/9.2 MB 15.5 MB/s eta 0:00:00\n",
      "Installing collected packages: scikit-learn\n",
      "  Attempting uninstall: scikit-learn\n",
      "    Found existing installation: scikit-learn 1.3.0\n",
      "    Uninstalling scikit-learn-1.3.0:\n",
      "      Successfully uninstalled scikit-learn-1.3.0\n",
      "Successfully installed scikit-learn-1.3.2\n",
      "Note: you may need to restart the kernel to use updated packages.\n"
     ]
    }
   ],
   "source": [
    "pip install -U scikit-learn"
   ]
  },
  {
   "cell_type": "code",
   "execution_count": 24,
   "id": "667df7ad",
   "metadata": {},
   "outputs": [],
   "source": [
    "vectorizer = CountVectorizer()\n",
    "bow_model = vectorizer.fit_transform(messages)"
   ]
  },
  {
   "cell_type": "code",
   "execution_count": 25,
   "id": "5346995f",
   "metadata": {},
   "outputs": [
    {
     "ename": "AttributeError",
     "evalue": "'CountVectorizer' object has no attribute 'get_feature_names'",
     "output_type": "error",
     "traceback": [
      "\u001b[1;31m---------------------------------------------------------------------------\u001b[0m",
      "\u001b[1;31mAttributeError\u001b[0m                            Traceback (most recent call last)",
      "Cell \u001b[1;32mIn[25], line 1\u001b[0m\n\u001b[1;32m----> 1\u001b[0m vectorizer\u001b[38;5;241m.\u001b[39mget_feature_names()\n",
      "\u001b[1;31mAttributeError\u001b[0m: 'CountVectorizer' object has no attribute 'get_feature_names'"
     ]
    }
   ],
   "source": [
    "vectorizer.get_feature_names()"
   ]
  },
  {
   "cell_type": "code",
   "execution_count": null,
   "id": "64405f0b",
   "metadata": {},
   "outputs": [],
   "source": []
  }
 ],
 "metadata": {
  "kernelspec": {
   "display_name": "Python 3 (ipykernel)",
   "language": "python",
   "name": "python3"
  },
  "language_info": {
   "codemirror_mode": {
    "name": "ipython",
    "version": 3
   },
   "file_extension": ".py",
   "mimetype": "text/x-python",
   "name": "python",
   "nbconvert_exporter": "python",
   "pygments_lexer": "ipython3",
   "version": "3.11.5"
  }
 },
 "nbformat": 4,
 "nbformat_minor": 5
}
